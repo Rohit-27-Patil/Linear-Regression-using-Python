{
 "cells": [
  {
   "cell_type": "markdown",
   "id": "40398f0d-1cdd-444f-b50b-10c4c403e47c",
   "metadata": {},
   "source": [
    "# Linear Regression  "
   ]
  },
  {
   "cell_type": "code",
   "execution_count": 1,
   "id": "11af395b-92e1-4fa7-bcb6-fed9ce5f799b",
   "metadata": {},
   "outputs": [],
   "source": [
    "import numpy as np\n",
    "import pandas as pd\n",
    "import matplotlib as plt\n",
    "import seaborn as sns"
   ]
  },
  {
   "cell_type": "code",
   "execution_count": 2,
   "id": "ad535c49-70bf-44d3-91f2-721bf7f2de9d",
   "metadata": {},
   "outputs": [],
   "source": [
    "df = pd.read_csv('Fish_dataset.csv')"
   ]
  },
  {
   "cell_type": "code",
   "execution_count": 3,
   "id": "1ca3a3a2-306f-4bc1-8086-ada208c19f6a",
   "metadata": {},
   "outputs": [
    {
     "data": {
      "text/html": [
       "<div>\n",
       "<style scoped>\n",
       "    .dataframe tbody tr th:only-of-type {\n",
       "        vertical-align: middle;\n",
       "    }\n",
       "\n",
       "    .dataframe tbody tr th {\n",
       "        vertical-align: top;\n",
       "    }\n",
       "\n",
       "    .dataframe thead th {\n",
       "        text-align: right;\n",
       "    }\n",
       "</style>\n",
       "<table border=\"1\" class=\"dataframe\">\n",
       "  <thead>\n",
       "    <tr style=\"text-align: right;\">\n",
       "      <th></th>\n",
       "      <th>Species</th>\n",
       "      <th>Weight</th>\n",
       "      <th>Length1</th>\n",
       "      <th>Length2</th>\n",
       "      <th>Length3</th>\n",
       "      <th>Height</th>\n",
       "      <th>Width</th>\n",
       "    </tr>\n",
       "  </thead>\n",
       "  <tbody>\n",
       "    <tr>\n",
       "      <th>0</th>\n",
       "      <td>Bream</td>\n",
       "      <td>242.0</td>\n",
       "      <td>23.2</td>\n",
       "      <td>25.4</td>\n",
       "      <td>30.0</td>\n",
       "      <td>11.5200</td>\n",
       "      <td>4.0200</td>\n",
       "    </tr>\n",
       "    <tr>\n",
       "      <th>1</th>\n",
       "      <td>Bream</td>\n",
       "      <td>290.0</td>\n",
       "      <td>24.0</td>\n",
       "      <td>26.3</td>\n",
       "      <td>31.2</td>\n",
       "      <td>12.4800</td>\n",
       "      <td>4.3056</td>\n",
       "    </tr>\n",
       "    <tr>\n",
       "      <th>2</th>\n",
       "      <td>Bream</td>\n",
       "      <td>340.0</td>\n",
       "      <td>23.9</td>\n",
       "      <td>26.5</td>\n",
       "      <td>31.1</td>\n",
       "      <td>12.3778</td>\n",
       "      <td>4.6961</td>\n",
       "    </tr>\n",
       "    <tr>\n",
       "      <th>3</th>\n",
       "      <td>Bream</td>\n",
       "      <td>363.0</td>\n",
       "      <td>26.3</td>\n",
       "      <td>29.0</td>\n",
       "      <td>33.5</td>\n",
       "      <td>12.7300</td>\n",
       "      <td>4.4555</td>\n",
       "    </tr>\n",
       "    <tr>\n",
       "      <th>4</th>\n",
       "      <td>Bream</td>\n",
       "      <td>430.0</td>\n",
       "      <td>26.5</td>\n",
       "      <td>29.0</td>\n",
       "      <td>34.0</td>\n",
       "      <td>12.4440</td>\n",
       "      <td>5.1340</td>\n",
       "    </tr>\n",
       "  </tbody>\n",
       "</table>\n",
       "</div>"
      ],
      "text/plain": [
       "  Species  Weight  Length1  Length2  Length3   Height   Width\n",
       "0   Bream   242.0     23.2     25.4     30.0  11.5200  4.0200\n",
       "1   Bream   290.0     24.0     26.3     31.2  12.4800  4.3056\n",
       "2   Bream   340.0     23.9     26.5     31.1  12.3778  4.6961\n",
       "3   Bream   363.0     26.3     29.0     33.5  12.7300  4.4555\n",
       "4   Bream   430.0     26.5     29.0     34.0  12.4440  5.1340"
      ]
     },
     "execution_count": 3,
     "metadata": {},
     "output_type": "execute_result"
    }
   ],
   "source": [
    "df.head(5)"
   ]
  },
  {
   "cell_type": "code",
   "execution_count": 4,
   "id": "c1a9e646-4dda-49fc-b253-fbdc811a77d4",
   "metadata": {},
   "outputs": [
    {
     "data": {
      "text/html": [
       "<div>\n",
       "<style scoped>\n",
       "    .dataframe tbody tr th:only-of-type {\n",
       "        vertical-align: middle;\n",
       "    }\n",
       "\n",
       "    .dataframe tbody tr th {\n",
       "        vertical-align: top;\n",
       "    }\n",
       "\n",
       "    .dataframe thead th {\n",
       "        text-align: right;\n",
       "    }\n",
       "</style>\n",
       "<table border=\"1\" class=\"dataframe\">\n",
       "  <thead>\n",
       "    <tr style=\"text-align: right;\">\n",
       "      <th></th>\n",
       "      <th>Weight</th>\n",
       "      <th>Length1</th>\n",
       "      <th>Length2</th>\n",
       "      <th>Length3</th>\n",
       "      <th>Height</th>\n",
       "      <th>Width</th>\n",
       "    </tr>\n",
       "  </thead>\n",
       "  <tbody>\n",
       "    <tr>\n",
       "      <th>count</th>\n",
       "      <td>159.000000</td>\n",
       "      <td>159.000000</td>\n",
       "      <td>159.000000</td>\n",
       "      <td>159.000000</td>\n",
       "      <td>159.000000</td>\n",
       "      <td>159.000000</td>\n",
       "    </tr>\n",
       "    <tr>\n",
       "      <th>mean</th>\n",
       "      <td>398.326415</td>\n",
       "      <td>26.247170</td>\n",
       "      <td>28.415723</td>\n",
       "      <td>31.227044</td>\n",
       "      <td>8.970994</td>\n",
       "      <td>4.417486</td>\n",
       "    </tr>\n",
       "    <tr>\n",
       "      <th>std</th>\n",
       "      <td>357.978317</td>\n",
       "      <td>9.996441</td>\n",
       "      <td>10.716328</td>\n",
       "      <td>11.610246</td>\n",
       "      <td>4.286208</td>\n",
       "      <td>1.685804</td>\n",
       "    </tr>\n",
       "    <tr>\n",
       "      <th>min</th>\n",
       "      <td>0.000000</td>\n",
       "      <td>7.500000</td>\n",
       "      <td>8.400000</td>\n",
       "      <td>8.800000</td>\n",
       "      <td>1.728400</td>\n",
       "      <td>1.047600</td>\n",
       "    </tr>\n",
       "    <tr>\n",
       "      <th>25%</th>\n",
       "      <td>120.000000</td>\n",
       "      <td>19.050000</td>\n",
       "      <td>21.000000</td>\n",
       "      <td>23.150000</td>\n",
       "      <td>5.944800</td>\n",
       "      <td>3.385650</td>\n",
       "    </tr>\n",
       "    <tr>\n",
       "      <th>50%</th>\n",
       "      <td>273.000000</td>\n",
       "      <td>25.200000</td>\n",
       "      <td>27.300000</td>\n",
       "      <td>29.400000</td>\n",
       "      <td>7.786000</td>\n",
       "      <td>4.248500</td>\n",
       "    </tr>\n",
       "    <tr>\n",
       "      <th>75%</th>\n",
       "      <td>650.000000</td>\n",
       "      <td>32.700000</td>\n",
       "      <td>35.500000</td>\n",
       "      <td>39.650000</td>\n",
       "      <td>12.365900</td>\n",
       "      <td>5.584500</td>\n",
       "    </tr>\n",
       "    <tr>\n",
       "      <th>max</th>\n",
       "      <td>1650.000000</td>\n",
       "      <td>59.000000</td>\n",
       "      <td>63.400000</td>\n",
       "      <td>68.000000</td>\n",
       "      <td>18.957000</td>\n",
       "      <td>8.142000</td>\n",
       "    </tr>\n",
       "  </tbody>\n",
       "</table>\n",
       "</div>"
      ],
      "text/plain": [
       "            Weight     Length1     Length2     Length3      Height       Width\n",
       "count   159.000000  159.000000  159.000000  159.000000  159.000000  159.000000\n",
       "mean    398.326415   26.247170   28.415723   31.227044    8.970994    4.417486\n",
       "std     357.978317    9.996441   10.716328   11.610246    4.286208    1.685804\n",
       "min       0.000000    7.500000    8.400000    8.800000    1.728400    1.047600\n",
       "25%     120.000000   19.050000   21.000000   23.150000    5.944800    3.385650\n",
       "50%     273.000000   25.200000   27.300000   29.400000    7.786000    4.248500\n",
       "75%     650.000000   32.700000   35.500000   39.650000   12.365900    5.584500\n",
       "max    1650.000000   59.000000   63.400000   68.000000   18.957000    8.142000"
      ]
     },
     "execution_count": 4,
     "metadata": {},
     "output_type": "execute_result"
    }
   ],
   "source": [
    "df.describe()"
   ]
  },
  {
   "cell_type": "code",
   "execution_count": 5,
   "id": "897b78fd-84b5-490c-9d0e-52d4d740b290",
   "metadata": {},
   "outputs": [
    {
     "data": {
      "text/plain": [
       "Species    0\n",
       "Weight     0\n",
       "Length1    0\n",
       "Length2    0\n",
       "Length3    0\n",
       "Height     0\n",
       "Width      0\n",
       "dtype: int64"
      ]
     },
     "execution_count": 5,
     "metadata": {},
     "output_type": "execute_result"
    }
   ],
   "source": [
    "df.isnull().sum()"
   ]
  },
  {
   "cell_type": "markdown",
   "id": "adc33c05-6465-4ff3-9de6-5ad65d8784a8",
   "metadata": {},
   "source": [
    "### Q1) Plot a bar chart showing count of individual species? "
   ]
  },
  {
   "cell_type": "code",
   "execution_count": 6,
   "id": "cbe3de7a-c32a-44d9-a226-25f39f5a6d35",
   "metadata": {},
   "outputs": [],
   "source": [
    "# Get the count of individual species\n",
    "species_counts = df[\"Species\"].value_counts()"
   ]
  },
  {
   "cell_type": "code",
   "execution_count": 8,
   "id": "6a65c86f-c81a-4ddc-b4b8-b4758bc5cbe4",
   "metadata": {},
   "outputs": [
    {
     "data": {
      "text/plain": [
       "<Axes: xlabel='Species'>"
      ]
     },
     "execution_count": 8,
     "metadata": {},
     "output_type": "execute_result"
    },
    {
     "data": {
      "image/png": "[encoded data removed]",
      "text/plain": [
       "<Figure size 640x480 with 1 Axes>"
      ]
     },
     "metadata": {},
     "output_type": "display_data"
    }
   ],
   "source": [
    "# Create the bar chart\n",
    "sns.barplot(x=species_counts.index, y=species_counts.values)\n",
    "#sns.xlabel(\"Species\")  # Use sns.xlabel instead of plt.xlabel\n",
    "#sns.ylabel(\"Count\")\n",
    "#sns.title(\"Distribution of Species\")\n",
    "#plt.show()"
   ]
  },
  {
   "cell_type": "markdown",
   "id": "a78f48ca-950b-445c-acd0-c36b2cb38bf5",
   "metadata": {},
   "source": [
    "### Q2) Identify outliers and remove if any?"
   ]
  },
  {
   "cell_type": "code",
   "execution_count": 9,
   "id": "1aa6af96-ea24-423c-b9db-dc4a8bd181f0",
   "metadata": {},
   "outputs": [],
   "source": [
    "# Choose an appropriate method for outlier detection (e.g., IQR, z-scores)\n",
    "# Replace with your chosen method and threshold\n",
    "outliers = df[df[\"Weight\"] > df[\"Weight\"].quantile(0.95)]\n",
    "\n"
   ]
  },
  {
   "cell_type": "code",
   "execution_count": 10,
   "id": "ba2f4d22-396a-43dd-9722-8b060a17f871",
   "metadata": {},
   "outputs": [
    {
     "name": "stdout",
     "output_type": "stream",
     "text": [
      "    Species  Weight  Length1  Length2  Length3   Height   Width\n",
      "121   Perch  1015.0     37.0     40.0     42.4  12.3808  7.4624\n",
      "123   Perch  1100.0     39.0     42.0     44.6  12.8002  6.8684\n",
      "125   Perch  1100.0     40.1     43.0     45.5  12.5125  7.4165\n",
      "141    Pike  1250.0     52.0     56.0     59.7  10.6863  6.9849\n",
      "142    Pike  1600.0     56.0     60.0     64.0   9.6000  6.1440\n",
      "143    Pike  1550.0     56.0     60.0     64.0   9.6000  6.1440\n",
      "144    Pike  1650.0     59.0     63.4     68.0  10.8120  7.4800\n"
     ]
    }
   ],
   "source": [
    "print(outliers)"
   ]
  },
  {
   "cell_type": "code",
   "execution_count": 11,
   "id": "69b59699-41b3-486c-99bd-ab6257c80dfd",
   "metadata": {},
   "outputs": [],
   "source": [
    "#Remove outliers (optional)\n",
    "df = df.drop(outliers.index)\n"
   ]
  },
  {
   "cell_type": "markdown",
   "id": "4c90862b-c3e2-494a-bfb2-144edd8c7997",
   "metadata": {},
   "source": [
    "### Q3) Build a regression model and print regression equation? "
   ]
  },
  {
   "cell_type": "code",
   "execution_count": 12,
   "id": "ea698da1-9dda-4a84-aae2-885063f1da7a",
   "metadata": {},
   "outputs": [
    {
     "name": "stdout",
     "output_type": "stream",
     "text": [
      "Regression equation: y = 107.83078315355851x + -397.21851412699425\n"
     ]
    }
   ],
   "source": [
    "# Import libraries\n",
    "from sklearn.linear_model import LinearRegression\n",
    "\n",
    "# Choose your independent and dependent variables (replace with your choices)\n",
    "X = df[[\"Length1\", \"Length2\", \"Length3\", \"Height\", \"Width\" ]]\n",
    "y = df[\"Weight\"]\n",
    "\n",
    "# Create and fit the model\n",
    "model = LinearRegression()\n",
    "model.fit(X, y)\n",
    "\n",
    "# Print the regression equation\n",
    "print(f\"Regression equation: y = {model.coef_[0]}x + {model.intercept_}\")\n"
   ]
  },
  {
   "cell_type": "code",
   "execution_count": null,
   "id": "5ca9cda6-a295-40bb-9812-1c0ab93b3691",
   "metadata": {},
   "outputs": [],
   "source": []
  },
  {
   "cell_type": "code",
   "execution_count": null,
   "id": "1fc752d6-95ab-4ced-aa88-4ccb0e75f21b",
   "metadata": {},
   "outputs": [],
   "source": []
  },
  {
   "cell_type": "markdown",
   "id": "d585ab2a-3951-4547-bdc7-a53841062232",
   "metadata": {},
   "source": [
    "### Q4) what is the mean score of the model at 95% confidence interval?"
   ]
  },
  {
   "cell_type": "code",
   "execution_count": 14,
   "id": "8ad414c0-fb58-45b0-9acf-e8318d08540d",
   "metadata": {},
   "outputs": [
    {
     "name": "stdout",
     "output_type": "stream",
     "text": [
      "Mean score: 0.9081\n",
      "95% Confidence interval: [-176.4620, 178.2782]\n"
     ]
    }
   ],
   "source": [
    "import numpy as np\n",
    "from scipy import stats  # Import the scipy.stats module for statistical functions\n",
    "\n",
    "# Predict values using the model\n",
    "y_pred = model.predict(X)\n",
    "\n",
    "# Calculate mean squared error (MSE)\n",
    "from sklearn.metrics import mean_squared_error\n",
    "mse = mean_squared_error(y, y_pred)\n",
    "\n",
    "# Calculate standard deviation\n",
    "std = np.sqrt(mse)\n",
    "\n",
    "# Calculate confidence interval (replace with your desired confidence level)\n",
    "confidence_level = 0.95\n",
    "z_score = stats.norm.ppf((1 + confidence_level) / 2)\n",
    "margin_of_error = z_score * std\n",
    "\n",
    "# Calculate mean score and confidence interval\n",
    "mean_score = model.score(X, y)\n",
    "lower_bound = mean_score - margin_of_error\n",
    "upper_bound = mean_score + margin_of_error\n",
    "\n",
    "print(f\"Mean score: {mean_score:.4f}\")\n",
    "print(f\"95% Confidence interval: [{lower_bound:.4f}, {upper_bound:.4f}]\")\n"
   ]
  },
  {
   "cell_type": "markdown",
   "id": "9e5e4e03-2a8e-4265-a5f5-f685220827d6",
   "metadata": {},
   "source": [
    "### Q5) Compare real and predicted weights and give a conclusion statement based on it?"
   ]
  },
  {
   "cell_type": "code",
   "execution_count": 15,
   "id": "69508f66-96af-4f37-b396-dd3d24481bff",
   "metadata": {},
   "outputs": [],
   "source": [
    "# Create a DataFrame to compare real and predicted weights\n",
    "comparison_df = pd.DataFrame({\"Real weight\": y, \"Predicted weight\": y_pred})\n",
    "\n",
    "# Analyze the comparison (e.g., calculate difference, plot the comparison)\n",
    "# Draw conclusions based on your analysis (e.g., how well the model predicts weights)\n",
    "\n",
    "# Example conclusion:\n",
    "# The model seems to predict weights reasonably well, with a mean difference of ... and a standard deviation of .... However, further investigation might be needed for specific weight ranges or outliers.\n"
   ]
  },
  {
   "cell_type": "code",
   "execution_count": 20,
   "id": "8220e02d-1f7b-4f19-9200-060779fd47da",
   "metadata": {},
   "outputs": [
    {
     "data": {
      "text/html": [
       "<div>\n",
       "<style scoped>\n",
       "    .dataframe tbody tr th:only-of-type {\n",
       "        vertical-align: middle;\n",
       "    }\n",
       "\n",
       "    .dataframe tbody tr th {\n",
       "        vertical-align: top;\n",
       "    }\n",
       "\n",
       "    .dataframe thead th {\n",
       "        text-align: right;\n",
       "    }\n",
       "</style>\n",
       "<table border=\"1\" class=\"dataframe\">\n",
       "  <thead>\n",
       "    <tr style=\"text-align: right;\">\n",
       "      <th></th>\n",
       "      <th>Real weight</th>\n",
       "      <th>Predicted weight</th>\n",
       "      <th>Difference</th>\n",
       "    </tr>\n",
       "  </thead>\n",
       "  <tbody>\n",
       "    <tr>\n",
       "      <th>0</th>\n",
       "      <td>242.0</td>\n",
       "      <td>337.752075</td>\n",
       "      <td>-95.752075</td>\n",
       "    </tr>\n",
       "    <tr>\n",
       "      <th>1</th>\n",
       "      <td>290.0</td>\n",
       "      <td>385.233886</td>\n",
       "      <td>-95.233886</td>\n",
       "    </tr>\n",
       "    <tr>\n",
       "      <th>2</th>\n",
       "      <td>340.0</td>\n",
       "      <td>382.687575</td>\n",
       "      <td>-42.687575</td>\n",
       "    </tr>\n",
       "    <tr>\n",
       "      <th>3</th>\n",
       "      <td>363.0</td>\n",
       "      <td>421.017361</td>\n",
       "      <td>-58.017361</td>\n",
       "    </tr>\n",
       "    <tr>\n",
       "      <th>4</th>\n",
       "      <td>430.0</td>\n",
       "      <td>454.050357</td>\n",
       "      <td>-24.050357</td>\n",
       "    </tr>\n",
       "  </tbody>\n",
       "</table>\n",
       "</div>"
      ],
      "text/plain": [
       "   Real weight  Predicted weight  Difference\n",
       "0        242.0        337.752075  -95.752075\n",
       "1        290.0        385.233886  -95.233886\n",
       "2        340.0        382.687575  -42.687575\n",
       "3        363.0        421.017361  -58.017361\n",
       "4        430.0        454.050357  -24.050357"
      ]
     },
     "execution_count": 20,
     "metadata": {},
     "output_type": "execute_result"
    }
   ],
   "source": [
    "comparison_df.head(5)"
   ]
  },
  {
   "cell_type": "code",
   "execution_count": 17,
   "id": "ce5a69e4-c266-4f21-b741-74d10f1a465e",
   "metadata": {},
   "outputs": [],
   "source": [
    "# Analyze the comparison\n",
    "comparison_df[\"Difference\"] = comparison_df[\"Real weight\"] - comparison_df[\"Predicted weight\"]\n",
    "mean_difference = comparison_df[\"Difference\"].mean()\n",
    "std_difference = comparison_df[\"Difference\"].std()\n"
   ]
  },
  {
   "cell_type": "code",
   "execution_count": 18,
   "id": "90bfe6a2-041a-40fe-a5e2-0d7a0f5bf6af",
   "metadata": {},
   "outputs": [
    {
     "data": {
      "image/png": "[encoded data removed]",
      "text/plain": [
       "<Figure size 1000x600 with 1 Axes>"
      ]
     },
     "metadata": {},
     "output_type": "display_data"
    }
   ],
   "source": [
    "# Plot the comparison (optional, depending on your preference and visualization tools)\n",
    "import matplotlib.pyplot as plt\n",
    "\n",
    "plt.figure(figsize=(10, 6))\n",
    "plt.scatter(comparison_df[\"Real weight\"], comparison_df[\"Predicted weight\"])\n",
    "plt.xlabel(\"Real weight\")\n",
    "plt.ylabel(\"Predicted weight\")\n",
    "plt.title(\"Comparison of Real and Predicted Weights\")\n",
    "plt.grid(True)\n",
    "plt.show()"
   ]
  },
  {
   "cell_type": "code",
   "execution_count": 21,
   "id": "070fb07f-687c-4732-926b-765bb3d77207",
   "metadata": {},
   "outputs": [
    {
     "name": "stdout",
     "output_type": "stream",
     "text": [
      "Mean difference: -0.0000\n",
      "Standard deviation of difference: 90.7958\n",
      "\n",
      "Conclusion:\n",
      "The model seems to predict weights reasonably well, with a mean difference of -0.0000 and a standard deviation of 90.7958. However, further investigation might be needed for specific weight ranges or outliers.\n"
     ]
    }
   ],
   "source": [
    "# Draw conclusions based on the analysis\n",
    "print(f\"Mean difference: {mean_difference:.4f}\")\n",
    "print(f\"Standard deviation of difference: {std_difference:.4f}\")\n",
    "print(\"\\nConclusion:\")\n",
    "print(\"The model seems to predict weights reasonably well, with a mean difference of {:.4f} and a standard deviation of {:.4f}. \"\n",
    "      \"However, further investigation might be needed for specific weight ranges or outliers.\".format(mean_difference, std_difference))"
   ]
  },
  {
   "cell_type": "code",
   "execution_count": null,
   "id": "1468d575-9ff4-48ef-9014-edaf183c6bd8",
   "metadata": {},
   "outputs": [],
   "source": []
  }
 ],
 "metadata": {
  "kernelspec": {
   "display_name": "Python 3 (ipykernel)",
   "language": "python",
   "name": "python3"
  },
  "language_info": {
   "codemirror_mode": {
    "name": "ipython",
    "version": 3
   },
   "file_extension": ".py",
   "mimetype": "text/x-python",
   "name": "python",
   "nbconvert_exporter": "python",
   "pygments_lexer": "ipython3",
   "version": "3.9.18"
  }
 },
 "nbformat": 4,
 "nbformat_minor": 5
}
